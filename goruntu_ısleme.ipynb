{
 "cells": [
  {
   "cell_type": "code",
   "execution_count": 17,
   "id": "8f9fc6ba-da2b-4e9b-8418-4232c31b6153",
   "metadata": {},
   "outputs": [],
   "source": [
    "import cv2 \n",
    "import numpy as np"
   ]
  },
  {
   "cell_type": "code",
   "execution_count": 160,
   "id": "446fda9a-8302-42c9-a439-97cc0814f650",
   "metadata": {},
   "outputs": [
    {
     "name": "stdout",
     "output_type": "stream",
     "text": [
      "(386, 686, 3)\n"
     ]
    }
   ],
   "source": [
    "my_imgg = cv2.imread(\"./su.jpg\",1)\n",
    "print(my_imgg.shape)"
   ]
  },
  {
   "cell_type": "code",
   "execution_count": 162,
   "id": "54a4211f-4610-4fcf-8088-8ebdc0da6b12",
   "metadata": {},
   "outputs": [],
   "source": [
    "img_vertical = cv2.flip(my_imgg,0)\n",
    "img_horizontal = cv2.flip(my_imgg,1)\n",
    "img_both = cv2.flip(my_imgg,-1)"
   ]
  },
  {
   "cell_type": "code",
   "execution_count": 164,
   "id": "0792a814-f052-4159-9778-704eefab239c",
   "metadata": {},
   "outputs": [],
   "source": [
    "cv2.imshow(\"RGB IMAGE\",my_imgg)\n",
    "cv2.waitKey(0)\n",
    "cv2.destroyAllWindows()"
   ]
  },
  {
   "cell_type": "code",
   "execution_count": 165,
   "id": "ca4244db-a46b-48f0-afa1-5d8db5e6dfa7",
   "metadata": {},
   "outputs": [],
   "source": [
    "cv2.imshow(\"RGB IMAGE\",img_vertical)\n",
    "cv2.waitKey(0)\n",
    "cv2.destroyAllWindows()"
   ]
  },
  {
   "cell_type": "code",
   "execution_count": 166,
   "id": "0ba68b35-d727-43d6-afa5-df262c7c74a4",
   "metadata": {},
   "outputs": [],
   "source": [
    "cv2.imshow(\"RGB IMAGE\",img_horizontal)\n",
    "cv2.waitKey(0)\n",
    "cv2.destroyAllWindows()"
   ]
  },
  {
   "cell_type": "code",
   "execution_count": 167,
   "id": "93b2a26d-8976-47a9-af17-14b89d7688fc",
   "metadata": {},
   "outputs": [],
   "source": [
    "cv2.imshow(\"RGB IMAGE\",img_both)\n",
    "cv2.waitKey(0)\n",
    "cv2.destroyAllWindows()"
   ]
  },
  {
   "cell_type": "code",
   "execution_count": 141,
   "id": "b53f7229-d239-4c47-a893-d95e037737e3",
   "metadata": {},
   "outputs": [],
   "source": [
    "cv2.imshow(\"RGB IMAGE\",my_imgg)\n",
    "cv2.imshow(\"v\",img_vertical)\n",
    "cv2.imshow(\"h\",img_horizontal)\n",
    "cv2.imshow(\"b\",img_both)\n",
    "cv2.waitKey(0)\n",
    "cv2.destroyAllWindows()"
   ]
  },
  {
   "cell_type": "code",
   "execution_count": 142,
   "id": "c8821bff-01f5-4b63-9029-227656278ff3",
   "metadata": {},
   "outputs": [
    {
     "data": {
      "text/plain": [
       "numpy.ndarray"
      ]
     },
     "execution_count": 142,
     "metadata": {},
     "output_type": "execute_result"
    }
   ],
   "source": [
    "np.ndarray"
   ]
  },
  {
   "cell_type": "code",
   "execution_count": 143,
   "id": "2fc076e0-8dd3-4293-9659-17e35dcbb5bb",
   "metadata": {},
   "outputs": [],
   "source": [
    "vertical_with_code = my_imgg[::-1,:,:]\n",
    "cv2.imshow(\"RGB IMAGE\",vertical_with_code)\n",
    "cv2.waitKey(0)\n",
    "cv2.destroyAllWindows()"
   ]
  },
#.
  {
   "cell_type": "code",
   "execution_count": 123,
   "id": "7eeec5e7-b233-4956-a85b-4b7a5ca87d2b",
   "metadata": {},
   "outputs": [],
   "source": [
    "horizontal_with_code = my_imgg[::-1,::-1,:]\n",
    "cv2.imshow(\"RGB IMAGE\",horizontal_with_code)\n",
    "cv2.waitKey(0)\n",
    "cv2.destroyAllWindows()"
   ]
  },
  {
   "cell_type": "code",
   "execution_count": 172,
   "id": "85bc5e7f-fce9-4475-b18c-236be8932fe3",
   "metadata": {},
   "outputs": [
    {
     "name": "stdout",
     "output_type": "stream",
     "text": [
      "Görüntünün yüksekliği = 386\n",
      "Görüntünün genişliği = 686\n",
      "Görüntünün kanal sayısı = 3\n"
     ]
    }
   ],
   "source": [
    "print(f\"Görüntünün yüksekliği = {my_imgg.shape[0]}\")\n",
    "print(f\"Görüntünün genişliği = {my_imgg.shape[1]}\")\n",
    "print(f\"Görüntünün kanal sayısı = {my_imgg.shape[2]}\")"
   ]
  },
  {
   "cell_type": "code",
   "execution_count": 179,
   "id": "82a6bec1-cb6d-4360-a8d4-04f7b12a1488",
   "metadata": {},
   "outputs": [],
   "source": [
    "resized_img = cv2.resize(my_imgg,(1372,772),cv2.INTER_LANCZOS4)\n",
    "cv2.imshow(\"Original \",my_imgg)\n",
    "cv2.imshow(\"Resized \",resized_img)\n",
    "cv2.waitKey(0)\n",
    "cv2.destroyAllWindows()"
   ]
  },
  {
   "cell_type": "code",
   "execution_count": null,
   "id": "0122159e-59a0-406b-99c4-4a2969dfb6ff",
   "metadata": {},
   "outputs": [],
   "source": []
  }
 ],
 "metadata": {
  "kernelspec": {
   "display_name": "env_ybs",
   "language": "python",
   "name": "env_ybs"
  },
  "language_info": {
   "codemirror_mode": {
    "name": "ipython",
    "version": 3
   },
   "file_extension": ".py",
   "mimetype": "text/x-python",
   "name": "python",
   "nbconvert_exporter": "python",
   "pygments_lexer": "ipython3",
   "version": "3.10.10"
  }
 },
 "nbformat": 4,
 "nbformat_minor": 5
}
